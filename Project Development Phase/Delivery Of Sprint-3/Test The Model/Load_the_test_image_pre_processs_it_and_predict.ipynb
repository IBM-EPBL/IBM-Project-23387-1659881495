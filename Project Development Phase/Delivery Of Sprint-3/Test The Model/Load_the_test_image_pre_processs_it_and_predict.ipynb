{
  "nbformat": 4,
  "nbformat_minor": 0,
  "metadata": {
    "colab": {
      "provenance": []
    },
    "kernelspec": {
      "name": "python3",
      "display_name": "Python 3"
    },
    "language_info": {
      "name": "python"
    }
  },
  "cells": [
    {
      "cell_type": "code",
      "execution_count": 1,
      "metadata": {
        "id": "ISR7Bx1CNZSy"
      },
      "outputs": [],
      "source": [
        "from keras.preprocessing.image import ImageDataGenerator"
      ]
    },
    {
      "cell_type": "code",
      "source": [
        "import tensorflow as tf\n",
        "import os"
      ],
      "metadata": {
        "id": "i9KEU_cyNkyB"
      },
      "execution_count": 2,
      "outputs": []
    },
    {
      "cell_type": "markdown",
      "source": [
        "# MODEL BUILDING"
      ],
      "metadata": {
        "id": "yuqieYbgNnzk"
      }
    },
    {
      "cell_type": "markdown",
      "source": [
        "Adding The Convolution Layer"
      ],
      "metadata": {
        "id": "7ZbRZrbnNsc_"
      }
    },
    {
      "cell_type": "code",
      "source": [
        "import numpy as np\n",
        "import matplotlib.pyplot as plt"
      ],
      "metadata": {
        "id": "BNxy8j9dNtD8"
      },
      "execution_count": 3,
      "outputs": []
    },
    {
      "cell_type": "code",
      "source": [
        "from tensorflow.keras.preprocessing.image import ImageDataGenerator"
      ],
      "metadata": {
        "id": "CxtkXnsZNu0T"
      },
      "execution_count": 4,
      "outputs": []
    },
    {
      "cell_type": "code",
      "source": [
        "# Training Datagen\n",
        "train_datagen = ImageDataGenerator(rescale=1/255,zoom_range=0.2,horizontal_flip=True,vertical_flip=False)\n",
        "# Testing Datagen\n",
        "test_datagen = ImageDataGenerator(rescale=1/255)"
      ],
      "metadata": {
        "id": "66XWoeTJNyYp"
      },
      "execution_count": 5,
      "outputs": []
    },
    {
      "cell_type": "code",
      "source": [
        "x_train=train_datagen.flow_from_directory('/content/Dataset/training_set',target_size=(64,64), class_mode='categorical',batch_size=900)"
      ],
      "metadata": {
        "colab": {
          "base_uri": "https://localhost:8080/"
        },
        "id": "KBw4Oa_UN1bU",
        "outputId": "e683dde2-7a25-4afc-bc80-d25a0e11a846"
      },
      "execution_count": 7,
      "outputs": [
        {
          "output_type": "stream",
          "name": "stdout",
          "text": [
            "Found 15750 images belonging to 9 classes.\n"
          ]
        }
      ]
    },
    {
      "cell_type": "code",
      "source": [
        "x_test=test_datagen.flow_from_directory('/content/Dataset/test_set',target_size=(64,64),batch_size=200,\n",
        "                                          class_mode='categorical',color_mode=\"grayscale\")"
      ],
      "metadata": {
        "colab": {
          "base_uri": "https://localhost:8080/"
        },
        "id": "myFEx6OXOblG",
        "outputId": "2f5741f0-b6d8-4914-bcbd-41097b33908e"
      },
      "execution_count": 8,
      "outputs": [
        {
          "output_type": "stream",
          "name": "stdout",
          "text": [
            "Found 2250 images belonging to 9 classes.\n"
          ]
        }
      ]
    },
    {
      "cell_type": "code",
      "source": [
        "print(\"Len x-train : \", len(x_train))"
      ],
      "metadata": {
        "colab": {
          "base_uri": "https://localhost:8080/"
        },
        "id": "DngmXHlSOdic",
        "outputId": "ac456a6d-62f1-4d9f-e642-8711b719089b"
      },
      "execution_count": 9,
      "outputs": [
        {
          "output_type": "stream",
          "name": "stdout",
          "text": [
            "Len x-train :  18\n"
          ]
        }
      ]
    },
    {
      "cell_type": "code",
      "source": [
        "print(\"Len x-test : \", len(x_test))"
      ],
      "metadata": {
        "colab": {
          "base_uri": "https://localhost:8080/"
        },
        "id": "EgeGaNObOfUx",
        "outputId": "49703ede-0d70-4a98-d903-1d1921bd78cb"
      },
      "execution_count": 10,
      "outputs": [
        {
          "output_type": "stream",
          "name": "stdout",
          "text": [
            "Len x-test :  12\n"
          ]
        }
      ]
    },
    {
      "cell_type": "code",
      "source": [
        "from keras.models import Sequential\n",
        "from keras.layers import Dense\n",
        "from keras.layers import Convolution2D\n",
        "from keras.layers import MaxPooling2D\n",
        "from keras.layers import Dropout\n",
        "from keras.layers import Flatten"
      ],
      "metadata": {
        "id": "bDFsHQBKOh8p"
      },
      "execution_count": 11,
      "outputs": []
    },
    {
      "cell_type": "code",
      "source": [
        "# let img1 be an image with no features\n",
        "img1 = np.array([np.array([200, 200]), np.array([200, 200])])\n",
        "img2 = np.array([np.array([200, 200]), np.array([0, 0])])\n",
        "img3 = np.array([np.array([200, 0]), np.array([200, 0])])\n",
        "  \n",
        "kernel_horizontal = np.array([np.array([2, 2]), np.array([-2, -2])])\n",
        "print(kernel_horizontal, 'is a kernel for detecting horizontal edges')\n",
        "  \n",
        "kernel_vertical = np.array([np.array([2, -2]), np.array([2, -2])])\n",
        "print(kernel_vertical, 'is a kernel for detecting vertical edges')"
      ],
      "metadata": {
        "colab": {
          "base_uri": "https://localhost:8080/"
        },
        "id": "AKx_0IxVOj83",
        "outputId": "c0cacd27-6db9-4e90-d2b2-f238a91a90f2"
      },
      "execution_count": 12,
      "outputs": [
        {
          "output_type": "stream",
          "name": "stdout",
          "text": [
            "[[ 2  2]\n",
            " [-2 -2]] is a kernel for detecting horizontal edges\n",
            "[[ 2 -2]\n",
            " [ 2 -2]] is a kernel for detecting vertical edges\n"
          ]
        }
      ]
    },
    {
      "cell_type": "code",
      "source": [
        "def apply_kernel(img, kernel):\n",
        "    return np.sum(np.multiply(img, kernel))\n",
        "  \n",
        "# Visualizing img1\n",
        "plt.imshow(img1)\n",
        "plt.axis('off')\n",
        "plt.title('img1')\n",
        "plt.show()\n",
        "\n",
        "# Checking for horizontal and vertical features in image1\n",
        "print('Horizontal edge confidence score:', apply_kernel(img1, \n",
        "                                            kernel_horizontal))\n",
        "print('Vertical edge confidence score:', apply_kernel(img1, \n",
        "                                            kernel_vertical))"
      ],
      "metadata": {
        "colab": {
          "base_uri": "https://localhost:8080/",
          "height": 299
        },
        "id": "h_lYCZ4iOklf",
        "outputId": "c7073053-7abe-4488-ab7c-946ac9a1b879"
      },
      "execution_count": 13,
      "outputs": [
        {
          "output_type": "display_data",
          "data": {
            "text/plain": [
              "<Figure size 432x288 with 1 Axes>"
            ],
            "image/png": "[encoded data removed]"
          },
          "metadata": {
            "needs_background": "light"
          }
        },
        {
          "output_type": "stream",
          "name": "stdout",
          "text": [
            "Horizontal edge confidence score: 0\n",
            "Vertical edge confidence score: 0\n"
          ]
        }
      ]
    },
    {
      "cell_type": "code",
      "source": [
        "# Visualizing img2\n",
        "plt.imshow(img2)\n",
        "plt.axis('off')\n",
        "plt.title('img2')\n",
        "plt.show()\n",
        "\n",
        "# Checking for horizontal and vertical features in image2\n",
        "print('Horizontal edge confidence score:', apply_kernel(img2, \n",
        "                                            kernel_horizontal))\n",
        "print('Vertical edge confidence score:', apply_kernel(img2, \n",
        "                                            kernel_vertical))"
      ],
      "metadata": {
        "colab": {
          "base_uri": "https://localhost:8080/",
          "height": 299
        },
        "id": "KEg6x1c9OodW",
        "outputId": "d6c93324-e121-41c6-8510-3050f46d6a07"
      },
      "execution_count": 14,
      "outputs": [
        {
          "output_type": "display_data",
          "data": {
            "text/plain": [
              "<Figure size 432x288 with 1 Axes>"
            ],
            "image/png": "[encoded data removed]"
          },
          "metadata": {
            "needs_background": "light"
          }
        },
        {
          "output_type": "stream",
          "name": "stdout",
          "text": [
            "Horizontal edge confidence score: 800\n",
            "Vertical edge confidence score: 0\n"
          ]
        }
      ]
    },
    {
      "cell_type": "code",
      "source": [
        "# Visualizing img3\n",
        "plt.imshow(img3)\n",
        "plt.axis('off')\n",
        "plt.title('img3')\n",
        "plt.show()\n",
        "  \n",
        "# Checking for horizontal and vertical features in image3\n",
        "print('Horizontal edge confidence score:', apply_kernel(img3, \n",
        "                                            kernel_horizontal))\n",
        "print('Vertical edge confidence score:', apply_kernel(img3, \n",
        "                                            kernel_vertical))"
      ],
      "metadata": {
        "colab": {
          "base_uri": "https://localhost:8080/",
          "height": 299
        },
        "id": "H2pBUxKXOq3t",
        "outputId": "56ca6f20-0682-4701-bf34-39ba9e10753b"
      },
      "execution_count": 15,
      "outputs": [
        {
          "output_type": "display_data",
          "data": {
            "text/plain": [
              "<Figure size 432x288 with 1 Axes>"
            ],
            "image/png": "[encoded data removed]"
          },
          "metadata": {
            "needs_background": "light"
          }
        },
        {
          "output_type": "stream",
          "name": "stdout",
          "text": [
            "Horizontal edge confidence score: 0\n",
            "Vertical edge confidence score: 800\n"
          ]
        }
      ]
    },
    {
      "cell_type": "code",
      "source": [
        "# The Class Indices in Training Dataset\n",
        "x_train.class_indices"
      ],
      "metadata": {
        "colab": {
          "base_uri": "https://localhost:8080/"
        },
        "id": "kO9bS-3-Os0F",
        "outputId": "f9dea37b-f046-42b9-cd89-c0b55230b7b4"
      },
      "execution_count": 16,
      "outputs": [
        {
          "output_type": "execute_result",
          "data": {
            "text/plain": [
              "{'A': 0, 'B': 1, 'C': 2, 'D': 3, 'E': 4, 'F': 5, 'G': 6, 'H': 7, 'I': 8}"
            ]
          },
          "metadata": {},
          "execution_count": 16
        }
      ]
    },
    {
      "cell_type": "code",
      "source": [
        "from tensorflow.keras.models import Sequential"
      ],
      "metadata": {
        "id": "dAyzuhIgOtWX"
      },
      "execution_count": 18,
      "outputs": []
    },
    {
      "cell_type": "code",
      "source": [
        "from tensorflow.keras.layers import Conv2D, MaxPooling2D"
      ],
      "metadata": {
        "id": "cvEdA6X8O1aO"
      },
      "execution_count": 19,
      "outputs": []
    },
    {
      "cell_type": "code",
      "source": [
        "from keras import layers"
      ],
      "metadata": {
        "id": "DUn5fMNUPAMJ"
      },
      "execution_count": 20,
      "outputs": []
    },
    {
      "cell_type": "markdown",
      "source": [
        "# Creating Model"
      ],
      "metadata": {
        "id": "NLiq_jV-PAxz"
      }
    },
    {
      "cell_type": "code",
      "source": [
        "model=Sequential()"
      ],
      "metadata": {
        "id": "xZamkKEBPDe3"
      },
      "execution_count": 21,
      "outputs": []
    },
    {
      "cell_type": "markdown",
      "source": [
        "# Adding Layers"
      ],
      "metadata": {
        "id": "knxykmDiPFQz"
      }
    },
    {
      "cell_type": "code",
      "source": [
        "model.add(Conv2D(33,(3,3),input_shape=(64,64,1), activation='relu'))\n",
        "\n",
        "model.add(Flatten())"
      ],
      "metadata": {
        "id": "rvsJfsLHPHeE"
      },
      "execution_count": 22,
      "outputs": []
    },
    {
      "cell_type": "markdown",
      "source": [
        "# 1st Hidden layer"
      ],
      "metadata": {
        "id": "kSEXF16OPL2c"
      }
    },
    {
      "cell_type": "code",
      "source": [
        "model.add(Dense(400,activation='relu'))"
      ],
      "metadata": {
        "id": "mSANXECgPMYA"
      },
      "execution_count": 23,
      "outputs": []
    },
    {
      "cell_type": "markdown",
      "source": [
        "# 2nd Hidden layer"
      ],
      "metadata": {
        "id": "kXHBWn3LPMvZ"
      }
    },
    {
      "cell_type": "code",
      "source": [
        "model.add(Dense(200,activation='relu'))"
      ],
      "metadata": {
        "id": "_gG2_WVUPM_8"
      },
      "execution_count": 24,
      "outputs": []
    },
    {
      "cell_type": "markdown",
      "source": [
        "# 3rd Hidden layer"
      ],
      "metadata": {
        "id": "r6UmzMhqPNXz"
      }
    },
    {
      "cell_type": "code",
      "source": [
        "model.add(Dense(100,activation='relu'))"
      ],
      "metadata": {
        "id": "R5FCYWxMPNpZ"
      },
      "execution_count": 25,
      "outputs": []
    },
    {
      "cell_type": "markdown",
      "source": [
        "# output layer"
      ],
      "metadata": {
        "id": "puCaf8CWPLwz"
      }
    },
    {
      "cell_type": "code",
      "source": [
        "model.add(Dense(9,activation='softmax'))"
      ],
      "metadata": {
        "id": "9KSpEURrPTdj"
      },
      "execution_count": 26,
      "outputs": []
    },
    {
      "cell_type": "markdown",
      "source": [
        "# Compile The Model"
      ],
      "metadata": {
        "id": "iDoHx6U6PTtL"
      }
    },
    {
      "cell_type": "code",
      "source": [
        "model.compile(loss='categorical_crossentropy',optimizer='adam',metrics=['accuracy'])"
      ],
      "metadata": {
        "id": "cSjuhxOsPT_b"
      },
      "execution_count": 27,
      "outputs": []
    },
    {
      "cell_type": "markdown",
      "source": [
        "# Fit The Model"
      ],
      "metadata": {
        "id": "oBOcN9tSPYIn"
      }
    },
    {
      "cell_type": "code",
      "source": [
        "model.fit(x_train,epochs=10,validation_data=x_test,verbose=1)"
      ],
      "metadata": {
        "id": "KOlCpLugPYiL"
      },
      "execution_count": null,
      "outputs": []
    },
    {
      "cell_type": "markdown",
      "source": [
        "# Save The Model"
      ],
      "metadata": {
        "id": "WvelPx1eP-eS"
      }
    },
    {
      "cell_type": "code",
      "source": [
        "model.save('aslpng1.h5')"
      ],
      "metadata": {
        "id": "ds_1jR8oQBtp"
      },
      "execution_count": 30,
      "outputs": []
    },
    {
      "cell_type": "code",
      "source": [
        "pip install opencv-python"
      ],
      "metadata": {
        "colab": {
          "base_uri": "https://localhost:8080/"
        },
        "id": "46uVAanQQCNf",
        "outputId": "b159fca8-1931-4b85-8c37-e0ddd113a025"
      },
      "execution_count": 31,
      "outputs": [
        {
          "output_type": "stream",
          "name": "stdout",
          "text": [
            "Looking in indexes: https://pypi.org/simple, https://us-python.pkg.dev/colab-wheels/public/simple/\n",
            "Requirement already satisfied: opencv-python in /usr/local/lib/python3.7/dist-packages (4.6.0.66)\n",
            "Requirement already satisfied: numpy>=1.14.5 in /usr/local/lib/python3.7/dist-packages (from opencv-python) (1.21.6)\n"
          ]
        }
      ]
    },
    {
      "cell_type": "markdown",
      "source": [
        "# Import the packages and load the saved model"
      ],
      "metadata": {
        "id": "i7hQjoNFQKLb"
      }
    },
    {
      "cell_type": "code",
      "source": [
        "from keras.models import load_model\n",
        "import numpy as np\n",
        "import cv2"
      ],
      "metadata": {
        "id": "edmmunoxQLIJ"
      },
      "execution_count": 32,
      "outputs": []
    },
    {
      "cell_type": "code",
      "source": [
        "from tensorflow.keras.preprocessing import image"
      ],
      "metadata": {
        "id": "t0aaQb3BQMr9"
      },
      "execution_count": 33,
      "outputs": []
    },
    {
      "cell_type": "code",
      "source": [
        "model=load_model('aslpng1.h5')"
      ],
      "metadata": {
        "id": "BJ5PRedqQOY3"
      },
      "execution_count": 34,
      "outputs": []
    },
    {
      "cell_type": "code",
      "source": [
        "img=image.load_img('/content/Dataset/test_set/F/10.png',target_size=(400,500))\n",
        "img"
      ],
      "metadata": {
        "colab": {
          "base_uri": "https://localhost:8080/",
          "height": 417
        },
        "id": "LErZKWWzQPwM",
        "outputId": "367935a6-78f3-40d5-c37b-ead99f440995"
      },
      "execution_count": 35,
      "outputs": [
        {
          "output_type": "execute_result",
          "data": {
            "text/plain": [
              "<PIL.Image.Image image mode=RGB size=500x400 at 0x7F8152FF1190>"
            ],
            "image/png": "[encoded data removed]"
          },
          "metadata": {},
          "execution_count": 35
        }
      ]
    },
    {
      "cell_type": "code",
      "source": [
        "arr= image.img_to_array(img)"
      ],
      "metadata": {
        "id": "VDzyo2YgQV8L"
      },
      "execution_count": 36,
      "outputs": []
    },
    {
      "cell_type": "code",
      "source": [
        "pwd"
      ],
      "metadata": {
        "colab": {
          "base_uri": "https://localhost:8080/",
          "height": 36
        },
        "id": "Y-e5B6NfQWct",
        "outputId": "54a2a2b1-ffe5-4b4d-c872-2d57fa1d148e"
      },
      "execution_count": 37,
      "outputs": [
        {
          "output_type": "execute_result",
          "data": {
            "text/plain": [
              "'/content'"
            ],
            "application/vnd.google.colaboratory.intrinsic+json": {
              "type": "string"
            }
          },
          "metadata": {},
          "execution_count": 37
        }
      ]
    },
    {
      "cell_type": "code",
      "source": [
        "img=image.load_img('/content/Dataset/test_set/F/10.png',target_size=(100,100))"
      ],
      "metadata": {
        "id": "QTvHfTNaQX-t"
      },
      "execution_count": 38,
      "outputs": []
    },
    {
      "cell_type": "code",
      "source": [
        "img"
      ],
      "metadata": {
        "colab": {
          "base_uri": "https://localhost:8080/",
          "height": 117
        },
        "id": "uVevyXVWQZsx",
        "outputId": "0eb289a8-7f96-4808-90bf-12a271965fe1"
      },
      "execution_count": 39,
      "outputs": [
        {
          "output_type": "execute_result",
          "data": {
            "text/plain": [
              "<PIL.Image.Image image mode=RGB size=100x100 at 0x7F8152FA97D0>"
            ],
            "image/png": "[encoded data removed]"
          },
          "metadata": {},
          "execution_count": 39
        }
      ]
    },
    {
      "cell_type": "code",
      "source": [
        "x=image.img_to_array(img)"
      ],
      "metadata": {
        "id": "MG_esRRsQdBG"
      },
      "execution_count": 40,
      "outputs": []
    },
    {
      "cell_type": "code",
      "source": [
        "x"
      ],
      "metadata": {
        "colab": {
          "base_uri": "https://localhost:8080/"
        },
        "id": "Bf462y9pQekZ",
        "outputId": "574e6514-ac7a-40da-94ea-a055377b2cad"
      },
      "execution_count": 41,
      "outputs": [
        {
          "output_type": "execute_result",
          "data": {
            "text/plain": [
              "array([[[0., 0., 0.],\n",
              "        [0., 0., 0.],\n",
              "        [0., 0., 0.],\n",
              "        ...,\n",
              "        [0., 0., 0.],\n",
              "        [0., 0., 0.],\n",
              "        [0., 0., 0.]],\n",
              "\n",
              "       [[0., 0., 0.],\n",
              "        [0., 0., 0.],\n",
              "        [0., 0., 0.],\n",
              "        ...,\n",
              "        [0., 0., 0.],\n",
              "        [0., 0., 0.],\n",
              "        [0., 0., 0.]],\n",
              "\n",
              "       [[0., 0., 0.],\n",
              "        [0., 0., 0.],\n",
              "        [0., 0., 0.],\n",
              "        ...,\n",
              "        [0., 0., 0.],\n",
              "        [0., 0., 0.],\n",
              "        [0., 0., 0.]],\n",
              "\n",
              "       ...,\n",
              "\n",
              "       [[0., 0., 0.],\n",
              "        [0., 0., 0.],\n",
              "        [0., 0., 0.],\n",
              "        ...,\n",
              "        [0., 0., 0.],\n",
              "        [0., 0., 0.],\n",
              "        [0., 0., 0.]],\n",
              "\n",
              "       [[0., 0., 0.],\n",
              "        [0., 0., 0.],\n",
              "        [0., 0., 0.],\n",
              "        ...,\n",
              "        [0., 0., 0.],\n",
              "        [0., 0., 0.],\n",
              "        [0., 0., 0.]],\n",
              "\n",
              "       [[0., 0., 0.],\n",
              "        [0., 0., 0.],\n",
              "        [0., 0., 0.],\n",
              "        ...,\n",
              "        [0., 0., 0.],\n",
              "        [0., 0., 0.],\n",
              "        [0., 0., 0.]]], dtype=float32)"
            ]
          },
          "metadata": {},
          "execution_count": 41
        }
      ]
    },
    {
      "cell_type": "code",
      "source": [
        "x.shape"
      ],
      "metadata": {
        "colab": {
          "base_uri": "https://localhost:8080/"
        },
        "id": "jlH76ciEQm5N",
        "outputId": "20ec052c-ae7e-4ce9-c3bd-b7ab2db9dd22"
      },
      "execution_count": 42,
      "outputs": [
        {
          "output_type": "execute_result",
          "data": {
            "text/plain": [
              "(100, 100, 3)"
            ]
          },
          "metadata": {},
          "execution_count": 42
        }
      ]
    },
    {
      "cell_type": "code",
      "source": [
        "x= np.expand_dims(x,axis=0)"
      ],
      "metadata": {
        "id": "ri1Usg3KQpV_"
      },
      "execution_count": 43,
      "outputs": []
    },
    {
      "cell_type": "code",
      "source": [
        "x"
      ],
      "metadata": {
        "colab": {
          "base_uri": "https://localhost:8080/"
        },
        "id": "ctreEk3cQpvl",
        "outputId": "3e303a71-e76c-4bdf-dd62-829d28721df2"
      },
      "execution_count": 44,
      "outputs": [
        {
          "output_type": "execute_result",
          "data": {
            "text/plain": [
              "array([[[[0., 0., 0.],\n",
              "         [0., 0., 0.],\n",
              "         [0., 0., 0.],\n",
              "         ...,\n",
              "         [0., 0., 0.],\n",
              "         [0., 0., 0.],\n",
              "         [0., 0., 0.]],\n",
              "\n",
              "        [[0., 0., 0.],\n",
              "         [0., 0., 0.],\n",
              "         [0., 0., 0.],\n",
              "         ...,\n",
              "         [0., 0., 0.],\n",
              "         [0., 0., 0.],\n",
              "         [0., 0., 0.]],\n",
              "\n",
              "        [[0., 0., 0.],\n",
              "         [0., 0., 0.],\n",
              "         [0., 0., 0.],\n",
              "         ...,\n",
              "         [0., 0., 0.],\n",
              "         [0., 0., 0.],\n",
              "         [0., 0., 0.]],\n",
              "\n",
              "        ...,\n",
              "\n",
              "        [[0., 0., 0.],\n",
              "         [0., 0., 0.],\n",
              "         [0., 0., 0.],\n",
              "         ...,\n",
              "         [0., 0., 0.],\n",
              "         [0., 0., 0.],\n",
              "         [0., 0., 0.]],\n",
              "\n",
              "        [[0., 0., 0.],\n",
              "         [0., 0., 0.],\n",
              "         [0., 0., 0.],\n",
              "         ...,\n",
              "         [0., 0., 0.],\n",
              "         [0., 0., 0.],\n",
              "         [0., 0., 0.]],\n",
              "\n",
              "        [[0., 0., 0.],\n",
              "         [0., 0., 0.],\n",
              "         [0., 0., 0.],\n",
              "         ...,\n",
              "         [0., 0., 0.],\n",
              "         [0., 0., 0.],\n",
              "         [0., 0., 0.]]]], dtype=float32)"
            ]
          },
          "metadata": {},
          "execution_count": 44
        }
      ]
    },
    {
      "cell_type": "code",
      "source": [
        "x.shape"
      ],
      "metadata": {
        "colab": {
          "base_uri": "https://localhost:8080/"
        },
        "id": "19ZY3HM4QvUK",
        "outputId": "224cbf0d-be86-4385-a46c-8968cf96abd2"
      },
      "execution_count": 45,
      "outputs": [
        {
          "output_type": "execute_result",
          "data": {
            "text/plain": [
              "(1, 100, 100, 3)"
            ]
          },
          "metadata": {},
          "execution_count": 45
        }
      ]
    },
    {
      "cell_type": "code",
      "source": [
        "y= tf.expand_dims(x, axis=-1)"
      ],
      "metadata": {
        "id": "ucCS4mXCQy3k"
      },
      "execution_count": 46,
      "outputs": []
    },
    {
      "cell_type": "code",
      "source": [
        "y"
      ],
      "metadata": {
        "colab": {
          "base_uri": "https://localhost:8080/"
        },
        "id": "4zGj3PdgQ0bY",
        "outputId": "aad6381e-95f0-4e32-b9ec-5eda316553dd"
      },
      "execution_count": 47,
      "outputs": [
        {
          "output_type": "execute_result",
          "data": {
            "text/plain": [
              "<tf.Tensor: shape=(1, 100, 100, 3, 1), dtype=float32, numpy=\n",
              "array([[[[[0.],\n",
              "          [0.],\n",
              "          [0.]],\n",
              "\n",
              "         [[0.],\n",
              "          [0.],\n",
              "          [0.]],\n",
              "\n",
              "         [[0.],\n",
              "          [0.],\n",
              "          [0.]],\n",
              "\n",
              "         ...,\n",
              "\n",
              "         [[0.],\n",
              "          [0.],\n",
              "          [0.]],\n",
              "\n",
              "         [[0.],\n",
              "          [0.],\n",
              "          [0.]],\n",
              "\n",
              "         [[0.],\n",
              "          [0.],\n",
              "          [0.]]],\n",
              "\n",
              "\n",
              "        [[[0.],\n",
              "          [0.],\n",
              "          [0.]],\n",
              "\n",
              "         [[0.],\n",
              "          [0.],\n",
              "          [0.]],\n",
              "\n",
              "         [[0.],\n",
              "          [0.],\n",
              "          [0.]],\n",
              "\n",
              "         ...,\n",
              "\n",
              "         [[0.],\n",
              "          [0.],\n",
              "          [0.]],\n",
              "\n",
              "         [[0.],\n",
              "          [0.],\n",
              "          [0.]],\n",
              "\n",
              "         [[0.],\n",
              "          [0.],\n",
              "          [0.]]],\n",
              "\n",
              "\n",
              "        [[[0.],\n",
              "          [0.],\n",
              "          [0.]],\n",
              "\n",
              "         [[0.],\n",
              "          [0.],\n",
              "          [0.]],\n",
              "\n",
              "         [[0.],\n",
              "          [0.],\n",
              "          [0.]],\n",
              "\n",
              "         ...,\n",
              "\n",
              "         [[0.],\n",
              "          [0.],\n",
              "          [0.]],\n",
              "\n",
              "         [[0.],\n",
              "          [0.],\n",
              "          [0.]],\n",
              "\n",
              "         [[0.],\n",
              "          [0.],\n",
              "          [0.]]],\n",
              "\n",
              "\n",
              "        ...,\n",
              "\n",
              "\n",
              "        [[[0.],\n",
              "          [0.],\n",
              "          [0.]],\n",
              "\n",
              "         [[0.],\n",
              "          [0.],\n",
              "          [0.]],\n",
              "\n",
              "         [[0.],\n",
              "          [0.],\n",
              "          [0.]],\n",
              "\n",
              "         ...,\n",
              "\n",
              "         [[0.],\n",
              "          [0.],\n",
              "          [0.]],\n",
              "\n",
              "         [[0.],\n",
              "          [0.],\n",
              "          [0.]],\n",
              "\n",
              "         [[0.],\n",
              "          [0.],\n",
              "          [0.]]],\n",
              "\n",
              "\n",
              "        [[[0.],\n",
              "          [0.],\n",
              "          [0.]],\n",
              "\n",
              "         [[0.],\n",
              "          [0.],\n",
              "          [0.]],\n",
              "\n",
              "         [[0.],\n",
              "          [0.],\n",
              "          [0.]],\n",
              "\n",
              "         ...,\n",
              "\n",
              "         [[0.],\n",
              "          [0.],\n",
              "          [0.]],\n",
              "\n",
              "         [[0.],\n",
              "          [0.],\n",
              "          [0.]],\n",
              "\n",
              "         [[0.],\n",
              "          [0.],\n",
              "          [0.]]],\n",
              "\n",
              "\n",
              "        [[[0.],\n",
              "          [0.],\n",
              "          [0.]],\n",
              "\n",
              "         [[0.],\n",
              "          [0.],\n",
              "          [0.]],\n",
              "\n",
              "         [[0.],\n",
              "          [0.],\n",
              "          [0.]],\n",
              "\n",
              "         ...,\n",
              "\n",
              "         [[0.],\n",
              "          [0.],\n",
              "          [0.]],\n",
              "\n",
              "         [[0.],\n",
              "          [0.],\n",
              "          [0.]],\n",
              "\n",
              "         [[0.],\n",
              "          [0.],\n",
              "          [0.]]]]], dtype=float32)>"
            ]
          },
          "metadata": {},
          "execution_count": 47
        }
      ]
    },
    {
      "cell_type": "code",
      "source": [
        "x_train.class_indices"
      ],
      "metadata": {
        "colab": {
          "base_uri": "https://localhost:8080/"
        },
        "id": "fuIjBprQQ4Uf",
        "outputId": "7ac4d39c-86f7-418b-a21e-bebd6e728614"
      },
      "execution_count": 48,
      "outputs": [
        {
          "output_type": "execute_result",
          "data": {
            "text/plain": [
              "{'A': 0, 'B': 1, 'C': 2, 'D': 3, 'E': 4, 'F': 5, 'G': 6, 'H': 7, 'I': 8}"
            ]
          },
          "metadata": {},
          "execution_count": 48
        }
      ]
    },
    {
      "cell_type": "code",
      "source": [
        "index=['A','B','C','D','E','F','G','H','I']"
      ],
      "metadata": {
        "id": "30YzKitZQ6l_"
      },
      "execution_count": 49,
      "outputs": []
    },
    {
      "cell_type": "code",
      "source": [
        "img=image.load_img('/content/Dataset/test_set/B/10.png',target_size=(100,100))"
      ],
      "metadata": {
        "id": "qcgPWUGKQ8qA"
      },
      "execution_count": 50,
      "outputs": []
    },
    {
      "cell_type": "code",
      "source": [
        "img"
      ],
      "metadata": {
        "colab": {
          "base_uri": "https://localhost:8080/",
          "height": 117
        },
        "id": "3JfByY__Q-IQ",
        "outputId": "d38de022-b993-4935-80e4-f024c6f26bcc"
      },
      "execution_count": 51,
      "outputs": [
        {
          "output_type": "execute_result",
          "data": {
            "text/plain": [
              "<PIL.Image.Image image mode=RGB size=100x100 at 0x7F8152FC9DD0>"
            ],
            "image/png": "[encoded data removed]"
          },
          "metadata": {},
          "execution_count": 51
        }
      ]
    },
    {
      "cell_type": "code",
      "source": [
        "x=image.img_to_array(img)"
      ],
      "metadata": {
        "id": "UG52NET8Q_7K"
      },
      "execution_count": 52,
      "outputs": []
    },
    {
      "cell_type": "code",
      "source": [
        "x=np.expand_dims(x,axis=0)"
      ],
      "metadata": {
        "id": "TRh540ogRBUg"
      },
      "execution_count": 53,
      "outputs": []
    },
    {
      "cell_type": "code",
      "source": [
        "y"
      ],
      "metadata": {
        "colab": {
          "base_uri": "https://localhost:8080/"
        },
        "id": "GwTci5LfRC9M",
        "outputId": "399ad2da-36e6-40fb-e0d3-9068b21a698a"
      },
      "execution_count": 54,
      "outputs": [
        {
          "output_type": "execute_result",
          "data": {
            "text/plain": [
              "<tf.Tensor: shape=(1, 100, 100, 3, 1), dtype=float32, numpy=\n",
              "array([[[[[0.],\n",
              "          [0.],\n",
              "          [0.]],\n",
              "\n",
              "         [[0.],\n",
              "          [0.],\n",
              "          [0.]],\n",
              "\n",
              "         [[0.],\n",
              "          [0.],\n",
              "          [0.]],\n",
              "\n",
              "         ...,\n",
              "\n",
              "         [[0.],\n",
              "          [0.],\n",
              "          [0.]],\n",
              "\n",
              "         [[0.],\n",
              "          [0.],\n",
              "          [0.]],\n",
              "\n",
              "         [[0.],\n",
              "          [0.],\n",
              "          [0.]]],\n",
              "\n",
              "\n",
              "        [[[0.],\n",
              "          [0.],\n",
              "          [0.]],\n",
              "\n",
              "         [[0.],\n",
              "          [0.],\n",
              "          [0.]],\n",
              "\n",
              "         [[0.],\n",
              "          [0.],\n",
              "          [0.]],\n",
              "\n",
              "         ...,\n",
              "\n",
              "         [[0.],\n",
              "          [0.],\n",
              "          [0.]],\n",
              "\n",
              "         [[0.],\n",
              "          [0.],\n",
              "          [0.]],\n",
              "\n",
              "         [[0.],\n",
              "          [0.],\n",
              "          [0.]]],\n",
              "\n",
              "\n",
              "        [[[0.],\n",
              "          [0.],\n",
              "          [0.]],\n",
              "\n",
              "         [[0.],\n",
              "          [0.],\n",
              "          [0.]],\n",
              "\n",
              "         [[0.],\n",
              "          [0.],\n",
              "          [0.]],\n",
              "\n",
              "         ...,\n",
              "\n",
              "         [[0.],\n",
              "          [0.],\n",
              "          [0.]],\n",
              "\n",
              "         [[0.],\n",
              "          [0.],\n",
              "          [0.]],\n",
              "\n",
              "         [[0.],\n",
              "          [0.],\n",
              "          [0.]]],\n",
              "\n",
              "\n",
              "        ...,\n",
              "\n",
              "\n",
              "        [[[0.],\n",
              "          [0.],\n",
              "          [0.]],\n",
              "\n",
              "         [[0.],\n",
              "          [0.],\n",
              "          [0.]],\n",
              "\n",
              "         [[0.],\n",
              "          [0.],\n",
              "          [0.]],\n",
              "\n",
              "         ...,\n",
              "\n",
              "         [[0.],\n",
              "          [0.],\n",
              "          [0.]],\n",
              "\n",
              "         [[0.],\n",
              "          [0.],\n",
              "          [0.]],\n",
              "\n",
              "         [[0.],\n",
              "          [0.],\n",
              "          [0.]]],\n",
              "\n",
              "\n",
              "        [[[0.],\n",
              "          [0.],\n",
              "          [0.]],\n",
              "\n",
              "         [[0.],\n",
              "          [0.],\n",
              "          [0.]],\n",
              "\n",
              "         [[0.],\n",
              "          [0.],\n",
              "          [0.]],\n",
              "\n",
              "         ...,\n",
              "\n",
              "         [[0.],\n",
              "          [0.],\n",
              "          [0.]],\n",
              "\n",
              "         [[0.],\n",
              "          [0.],\n",
              "          [0.]],\n",
              "\n",
              "         [[0.],\n",
              "          [0.],\n",
              "          [0.]]],\n",
              "\n",
              "\n",
              "        [[[0.],\n",
              "          [0.],\n",
              "          [0.]],\n",
              "\n",
              "         [[0.],\n",
              "          [0.],\n",
              "          [0.]],\n",
              "\n",
              "         [[0.],\n",
              "          [0.],\n",
              "          [0.]],\n",
              "\n",
              "         ...,\n",
              "\n",
              "         [[0.],\n",
              "          [0.],\n",
              "          [0.]],\n",
              "\n",
              "         [[0.],\n",
              "          [0.],\n",
              "          [0.]],\n",
              "\n",
              "         [[0.],\n",
              "          [0.],\n",
              "          [0.]]]]], dtype=float32)>"
            ]
          },
          "metadata": {},
          "execution_count": 54
        }
      ]
    },
    {
      "cell_type": "code",
      "source": [
        "index=['A','B','C','D','E','F','G','H','I']"
      ],
      "metadata": {
        "id": "Nrnam0hqRFN-"
      },
      "execution_count": 55,
      "outputs": []
    },
    {
      "cell_type": "code",
      "source": [
        "img = image.load_img('/content/Dataset/test_set/H/107.png',target_size = (100,100))\n",
        "img"
      ],
      "metadata": {
        "colab": {
          "base_uri": "https://localhost:8080/",
          "height": 117
        },
        "id": "dHbSp3WbRI_a",
        "outputId": "f7b3d2b4-21ba-4ae0-da65-e149c0a86cef"
      },
      "execution_count": 56,
      "outputs": [
        {
          "output_type": "execute_result",
          "data": {
            "text/plain": [
              "<PIL.Image.Image image mode=RGB size=100x100 at 0x7F8152F97F10>"
            ],
            "image/png": "[encoded data removed]"
          },
          "metadata": {},
          "execution_count": 56
        }
      ]
    },
    {
      "cell_type": "code",
      "source": [
        "from skimage.transform import resize\n",
        "def detect(frame):\n",
        "    img=image.img_to_array(frame)\n",
        "    img = resize(img,(64,64,1))\n",
        "    img = np.expand_dims(img,axis=0)\n",
        "    pred=np.argmax(model.predict(img))\n",
        "    op=['A','B','C','D','E','F','G','H','I']\n",
        "    print(\"THE PREDICTED LETTER IS \",op[pred])"
      ],
      "metadata": {
        "id": "Z0H5PCC1RK1V"
      },
      "execution_count": 57,
      "outputs": []
    },
    {
      "cell_type": "code",
      "source": [
        "img=image.load_img(\"/content/Dataset/test_set/H/107.png\")\n",
        "detect(img)"
      ],
      "metadata": {
        "colab": {
          "base_uri": "https://localhost:8080/"
        },
        "id": "UqHMDv-ERMo_",
        "outputId": "485e82db-b8f4-4f3e-9c3a-b6815fb7a0b0"
      },
      "execution_count": 58,
      "outputs": [
        {
          "output_type": "stream",
          "name": "stdout",
          "text": [
            "1/1 [==============================] - 1s 505ms/step\n",
            "THE PREDICTED LETTER IS  E\n"
          ]
        }
      ]
    },
    {
      "cell_type": "code",
      "source": [
        "img = image.load_img('/content/Dataset/test_set/A/110.png')\n",
        "pred=detect(img)"
      ],
      "metadata": {
        "colab": {
          "base_uri": "https://localhost:8080/"
        },
        "id": "65kFxaftROch",
        "outputId": "76967a27-c81c-4dc5-b338-d9f7f0d21e06"
      },
      "execution_count": 59,
      "outputs": [
        {
          "output_type": "stream",
          "name": "stdout",
          "text": [
            "1/1 [==============================] - 0s 200ms/step\n",
            "THE PREDICTED LETTER IS  I\n"
          ]
        }
      ]
    },
    {
      "cell_type": "code",
      "source": [
        "img=image.load_img('/content/Dataset/test_set/E/111.png')\n",
        "detect(img)"
      ],
      "metadata": {
        "colab": {
          "base_uri": "https://localhost:8080/"
        },
        "id": "j3YyaxQkRQdn",
        "outputId": "b62f7298-264d-458c-bc4d-485b7e908978"
      },
      "execution_count": 60,
      "outputs": [
        {
          "output_type": "stream",
          "name": "stdout",
          "text": [
            "1/1 [==============================] - 0s 59ms/step\n",
            "THE PREDICTED LETTER IS  E\n"
          ]
        }
      ]
    },
    {
      "cell_type": "code",
      "source": [
        "from skimage.transform import resize\n",
        "def detect(frame):\n",
        "    img=resize(frame,(64,64,1))\n",
        "    img=np.expand_dims(img,axis=0)\n",
        "    if(np.max(img)>1):\n",
        "        img=img/255.0\n",
        "    prediction=model.predict(img)\n",
        "    print(prediction)\n",
        "    prediction=model.predict_classes(img)\n",
        "    print(prediction)"
      ],
      "metadata": {
        "id": "KQBUuyDMRSUb"
      },
      "execution_count": 61,
      "outputs": []
    },
    {
      "cell_type": "code",
      "source": [
        "img=image.load_img(r'/content/Dataset/test_set/D/2.png',\n",
        "                   target_size=(64,64))"
      ],
      "metadata": {
        "id": "6t19BofJRUOC"
      },
      "execution_count": 62,
      "outputs": []
    },
    {
      "cell_type": "markdown",
      "source": [
        "# Load The Test Image, Pre-Process It And Predict"
      ],
      "metadata": {
        "id": "V7nWgVEYRWIy"
      }
    },
    {
      "cell_type": "code",
      "source": [
        "img"
      ],
      "metadata": {
        "colab": {
          "base_uri": "https://localhost:8080/",
          "height": 81
        },
        "id": "3OMZfBSeRXFq",
        "outputId": "3449ff0a-a1ef-4714-9872-7c1d9c03fe58"
      },
      "execution_count": 63,
      "outputs": [
        {
          "output_type": "execute_result",
          "data": {
            "text/plain": [
              "<PIL.Image.Image image mode=RGB size=64x64 at 0x7F815008DAD0>"
            ],
            "image/png": "[encoded data removed]"
          },
          "metadata": {},
          "execution_count": 63
        }
      ]
    },
    {
      "cell_type": "code",
      "source": [
        "x=image.img_to_array(img)"
      ],
      "metadata": {
        "id": "9MYj8xxGRZ_X"
      },
      "execution_count": 64,
      "outputs": []
    },
    {
      "cell_type": "code",
      "source": [
        "x.ndim"
      ],
      "metadata": {
        "colab": {
          "base_uri": "https://localhost:8080/"
        },
        "id": "UUXduecnRbhT",
        "outputId": "2c8111a0-0e3f-4387-a98a-e3ef168c7f73"
      },
      "execution_count": 65,
      "outputs": [
        {
          "output_type": "execute_result",
          "data": {
            "text/plain": [
              "3"
            ]
          },
          "metadata": {},
          "execution_count": 65
        }
      ]
    },
    {
      "cell_type": "code",
      "source": [
        "x=np.expand_dims(x,axis=0)"
      ],
      "metadata": {
        "id": "lrMJGAZ2RdeY"
      },
      "execution_count": 66,
      "outputs": []
    },
    {
      "cell_type": "code",
      "source": [
        "x.ndim"
      ],
      "metadata": {
        "colab": {
          "base_uri": "https://localhost:8080/"
        },
        "id": "auC0Pk1sReDt",
        "outputId": "7cccfaf5-d01c-4893-e6c8-7544aa28f77c"
      },
      "execution_count": 67,
      "outputs": [
        {
          "output_type": "execute_result",
          "data": {
            "text/plain": [
              "4"
            ]
          },
          "metadata": {},
          "execution_count": 67
        }
      ]
    },
    {
      "cell_type": "code",
      "source": [
        "pred=np.argmax(model.predict(x),axis=1)"
      ],
      "metadata": {
        "id": "DdJ9uar4Rfqz"
      },
      "execution_count": null,
      "outputs": []
    },
    {
      "cell_type": "code",
      "source": [
        "pred"
      ],
      "metadata": {
        "id": "j95sw8cKRinr"
      },
      "execution_count": 75,
      "outputs": []
    },
    {
      "cell_type": "code",
      "source": [
        "index=['A','B','C','D','E','F','G','H','I']\n",
        "print(index[pred[0]])"
      ],
      "metadata": {
        "id": "ckeZAlnDRk4g"
      },
      "execution_count": null,
      "outputs": []
    },
    {
      "cell_type": "markdown",
      "source": [
        "# Open CV"
      ],
      "metadata": {
        "id": "oehz-Z5LRvdA"
      }
    },
    {
      "cell_type": "code",
      "source": [
        "import cv2"
      ],
      "metadata": {
        "id": "mTXOGVERRssX"
      },
      "execution_count": 71,
      "outputs": []
    },
    {
      "cell_type": "code",
      "source": [
        "img=cv2.imread(r'/content/Dataset/test_set/C/2.png',1)"
      ],
      "metadata": {
        "id": "jcFiZhTYRx8U"
      },
      "execution_count": 72,
      "outputs": []
    },
    {
      "cell_type": "code",
      "source": [
        "img1=cv2.imread(r'/content/Dataset/test_set/B/2.png',0)"
      ],
      "metadata": {
        "id": "6Cm-DhZ7RyNG"
      },
      "execution_count": 73,
      "outputs": []
    },
    {
      "cell_type": "code",
      "source": [
        "print(img.shape)"
      ],
      "metadata": {
        "colab": {
          "base_uri": "https://localhost:8080/"
        },
        "id": "5kKPmkFbR2XX",
        "outputId": "13428098-9af9-46e8-a34b-9a27e4adcd1c"
      },
      "execution_count": 74,
      "outputs": [
        {
          "output_type": "stream",
          "name": "stdout",
          "text": [
            "(64, 64, 3)\n"
          ]
        }
      ]
    }
  ]
}